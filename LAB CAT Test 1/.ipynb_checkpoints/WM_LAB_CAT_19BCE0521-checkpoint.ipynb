{
 "cells": [
  {
   "cell_type": "markdown",
   "id": "substantial-science",
   "metadata": {},
   "source": [
    "# Student Details"
   ]
  },
  {
   "cell_type": "code",
   "execution_count": 1,
   "id": "apart-alarm",
   "metadata": {},
   "outputs": [],
   "source": [
    "#Student Names: Aman Anand\n",
    "#Student Reg. No.: 19BCE0521\n",
    "#Course and Slot: Web Mining - CSE3024 (L39+L40)\n",
    "#Faculty: Shashank Mouli Satapathy"
   ]
  },
  {
   "cell_type": "markdown",
   "id": "bearing-fruit",
   "metadata": {},
   "source": [
    "## Imported Libraries"
   ]
  },
  {
   "cell_type": "code",
   "execution_count": 10,
   "id": "exposed-complexity",
   "metadata": {},
   "outputs": [
    {
     "ename": "AttributeError",
     "evalue": "module 'matplotlib' has no attribute 'get_data_path'",
     "output_type": "error",
     "traceback": [
      "\u001b[1;31m---------------------------------------------------------------------------\u001b[0m",
      "\u001b[1;31mAttributeError\u001b[0m                            Traceback (most recent call last)",
      "\u001b[1;32m<ipython-input-10-8f6aa4c16835>\u001b[0m in \u001b[0;36m<module>\u001b[1;34m\u001b[0m\n\u001b[0;32m      1\u001b[0m \u001b[1;32mimport\u001b[0m \u001b[0mnetworkx\u001b[0m \u001b[1;32mas\u001b[0m \u001b[0mnx\u001b[0m\u001b[1;33m\u001b[0m\u001b[1;33m\u001b[0m\u001b[0m\n\u001b[1;32m----> 2\u001b[1;33m \u001b[1;32mimport\u001b[0m \u001b[0mmatplotlib\u001b[0m\u001b[1;33m.\u001b[0m\u001b[0mpyplot\u001b[0m \u001b[1;32mas\u001b[0m \u001b[0mplt\u001b[0m\u001b[1;33m\u001b[0m\u001b[1;33m\u001b[0m\u001b[0m\n\u001b[0m\u001b[0;32m      3\u001b[0m \u001b[1;32mimport\u001b[0m \u001b[0mmath\u001b[0m\u001b[1;33m\u001b[0m\u001b[1;33m\u001b[0m\u001b[0m\n\u001b[0;32m      4\u001b[0m \u001b[1;32mimport\u001b[0m \u001b[0mpandas\u001b[0m \u001b[1;32mas\u001b[0m \u001b[0mpd\u001b[0m\u001b[1;33m\u001b[0m\u001b[1;33m\u001b[0m\u001b[0m\n",
      "\u001b[1;32mC:\\Anaconda\\lib\\site-packages\\matplotlib\\__init__.py\u001b[0m in \u001b[0;36m<module>\u001b[1;34m\u001b[0m\n\u001b[0;32m    821\u001b[0m \u001b[1;31m# triggering resolution of _auto_backend_sentinel.\u001b[0m\u001b[1;33m\u001b[0m\u001b[1;33m\u001b[0m\u001b[1;33m\u001b[0m\u001b[0m\n\u001b[0;32m    822\u001b[0m rcParamsDefault = _rc_params_in_file(\n\u001b[1;32m--> 823\u001b[1;33m     \u001b[0mcbook\u001b[0m\u001b[1;33m.\u001b[0m\u001b[0m_get_data_path\u001b[0m\u001b[1;33m(\u001b[0m\u001b[1;34m\"matplotlibrc\"\u001b[0m\u001b[1;33m)\u001b[0m\u001b[1;33m,\u001b[0m\u001b[1;33m\u001b[0m\u001b[1;33m\u001b[0m\u001b[0m\n\u001b[0m\u001b[0;32m    824\u001b[0m     \u001b[1;31m# Strip leading comment.\u001b[0m\u001b[1;33m\u001b[0m\u001b[1;33m\u001b[0m\u001b[1;33m\u001b[0m\u001b[0m\n\u001b[0;32m    825\u001b[0m     \u001b[0mtransform\u001b[0m\u001b[1;33m=\u001b[0m\u001b[1;32mlambda\u001b[0m \u001b[0mline\u001b[0m\u001b[1;33m:\u001b[0m \u001b[0mline\u001b[0m\u001b[1;33m[\u001b[0m\u001b[1;36m1\u001b[0m\u001b[1;33m:\u001b[0m\u001b[1;33m]\u001b[0m \u001b[1;32mif\u001b[0m \u001b[0mline\u001b[0m\u001b[1;33m.\u001b[0m\u001b[0mstartswith\u001b[0m\u001b[1;33m(\u001b[0m\u001b[1;34m\"#\"\u001b[0m\u001b[1;33m)\u001b[0m \u001b[1;32melse\u001b[0m \u001b[0mline\u001b[0m\u001b[1;33m,\u001b[0m\u001b[1;33m\u001b[0m\u001b[1;33m\u001b[0m\u001b[0m\n",
      "\u001b[1;32mC:\\Anaconda\\lib\\site-packages\\matplotlib\\cbook\\__init__.py\u001b[0m in \u001b[0;36m_get_data_path\u001b[1;34m(*args)\u001b[0m\n\u001b[0;32m    478\u001b[0m     \u001b[1;32mif\u001b[0m \u001b[0mopened\u001b[0m\u001b[1;33m:\u001b[0m\u001b[1;33m\u001b[0m\u001b[1;33m\u001b[0m\u001b[0m\n\u001b[0;32m    479\u001b[0m         \u001b[1;32mwith\u001b[0m \u001b[0mfh\u001b[0m\u001b[1;33m:\u001b[0m\u001b[1;33m\u001b[0m\u001b[1;33m\u001b[0m\u001b[0m\n\u001b[1;32m--> 480\u001b[1;33m             \u001b[1;32myield\u001b[0m \u001b[0mfh\u001b[0m\u001b[1;33m\u001b[0m\u001b[1;33m\u001b[0m\u001b[0m\n\u001b[0m\u001b[0;32m    481\u001b[0m     \u001b[1;32melse\u001b[0m\u001b[1;33m:\u001b[0m\u001b[1;33m\u001b[0m\u001b[1;33m\u001b[0m\u001b[0m\n\u001b[0;32m    482\u001b[0m         \u001b[1;32myield\u001b[0m \u001b[0mfh\u001b[0m\u001b[1;33m\u001b[0m\u001b[1;33m\u001b[0m\u001b[0m\n",
      "\u001b[1;31mAttributeError\u001b[0m: module 'matplotlib' has no attribute 'get_data_path'"
     ]
    }
   ],
   "source": [
    "import networkx as nx\n",
    "import matplotlib.pyplot as plt\n",
    "import math\n",
    "import pandas as pd"
   ]
  },
  {
   "cell_type": "code",
   "execution_count": 11,
   "id": "serial-calibration",
   "metadata": {},
   "outputs": [
    {
     "name": "stdout",
     "output_type": "stream",
     "text": [
      "Requirement already satisfied: matplotlib in c:\\anaconda\\lib\\site-packages (3.4.2)\n",
      "Requirement already satisfied: kiwisolver>=1.0.1 in c:\\anaconda\\lib\\site-packages (from matplotlib) (1.3.1)\n",
      "Requirement already satisfied: cycler>=0.10 in c:\\anaconda\\lib\\site-packages (from matplotlib) (0.10.0)\n",
      "Requirement already satisfied: python-dateutil>=2.7 in c:\\anaconda\\lib\\site-packages (from matplotlib) (2.8.1)\n",
      "Requirement already satisfied: pillow>=6.2.0 in c:\\anaconda\\lib\\site-packages (from matplotlib) (8.1.0)\n",
      "Requirement already satisfied: numpy>=1.16 in c:\\anaconda\\lib\\site-packages (from matplotlib) (1.19.2)\n",
      "Requirement already satisfied: pyparsing>=2.2.1 in c:\\anaconda\\lib\\site-packages (from matplotlib) (2.4.7)\n",
      "Requirement already satisfied: six in c:\\anaconda\\lib\\site-packages (from cycler>=0.10->matplotlib) (1.15.0)\n",
      "Note: you may need to restart the kernel to use updated packages.\n"
     ]
    }
   ],
   "source": [
    "pip install matplotlib"
   ]
  },
  {
   "cell_type": "markdown",
   "id": "banner-marketing",
   "metadata": {},
   "source": [
    "## Question 1"
   ]
  },
  {
   "cell_type": "markdown",
   "id": "prospective-likelihood",
   "metadata": {},
   "source": [
    "### "
   ]
  },
  {
   "cell_type": "code",
   "execution_count": 4,
   "id": "confidential-companion",
   "metadata": {},
   "outputs": [],
   "source": [
    "# Ford-Fulkerson algorithm in Python\n",
    "N = 6\n",
    "parentTracker = []\n",
    "INFINITE = 9999999999\n",
    "def BreadthFirstSearch(residualGraph, source, sink, parentTracker):\n",
    "    \n",
    "    queue = []\n",
    "    visited = []\n",
    "    \n",
    "    for i in range(0,N):\n",
    "        visited.append(0)\n",
    "    \n",
    "    queue.append(source)\n",
    "    visited[source] = True\n",
    "    parentTracker[source] = -1\n",
    "    \n",
    "    while not len(queue) == 0:\n",
    "        u = queue.pop(0)\n",
    "        for v in range(0,N):\n",
    "            if visited[v] == False and residualGraph[u][v] > 0:\n",
    "                queue.append(v)\n",
    "                visited[v] = True\n",
    "                parentTracker[v] = u\n",
    "                \n",
    "    if visited[sink]:\n",
    "        return True\n",
    "    else:\n",
    "        return False\n",
    "\n",
    " \n",
    "def print_graph(graph):\n",
    "    \n",
    "    maxFlowGraph = nx.DiGraph()\n",
    "    maxFlowGraph.add_nodes_from('012345')\n",
    "    L  =[\n",
    "            ('0', '1', {'capacity': 15, 'flow': 0}),\n",
    "            ('0', '2', {'capacity': 11, 'flow': 0}),\n",
    "            ('1', '2', {'capacity': 8, 'flow': 0}),\n",
    "            ('1', '4', {'capacity': 9, 'flow': 0}),\n",
    "            ('2', '1', {'capacity': 10, 'flow': 0}),\n",
    "            ('2', '3', {'capacity': 9, 'flow': 0}),\n",
    "            ('3', '1', {'capacity': 15, 'flow': 0}),\n",
    "            ('3', '4', {'capacity': 8, 'flow': 0}),\n",
    "            ('3', '5', {'capacity': 11, 'flow': 0}),\n",
    "            ('4', '5', {'capacity': 10, 'flow': 0}),\n",
    "    ]\n",
    "    \n",
    "    \n",
    "    maxFlowLayout = {\n",
    "        '0': [0, 2], '1': [1, 4], '2': [1, 0], '3': [2, 4],\n",
    "        '4': [2, 0], '5': [3, 2], \n",
    "    }\n",
    "        \n",
    "    for i in L:\n",
    "        row = int(i[0])\n",
    "        col = int(i[1])\n",
    "        i[2]['flow'] = i[2]['capacity'] - graph[row][col] \n",
    "    maxFlowGraph.add_edges_from(L)\n",
    "    plt.figure(figsize=(5, 5))                           #scale of the graph.\n",
    "    plt.axis('off')                                      #Turning off the axis.\n",
    "    #Using networkx functions to plot the graph and add colour.\n",
    "    nx.draw_networkx_nodes(maxFlowGraph, maxFlowLayout, node_color='royalblue', node_size=450)\n",
    "    nx.draw_networkx_edges(maxFlowGraph, maxFlowLayout, edge_color='black')\n",
    "    nx.draw_networkx_labels(maxFlowGraph, maxFlowLayout, font_color='white')\n",
    "    for nextNode, currentNode, cf in maxFlowGraph.edges(data=True):\n",
    "        label = '{}/{}'.format(cf['flow'], cf['capacity'])\n",
    "        color = 'green' if cf['flow'] < cf['capacity'] else 'red'\n",
    "        x = maxFlowLayout[nextNode][0] * .6 + maxFlowLayout[currentNode][0] * .4\n",
    "        y = maxFlowLayout[nextNode][1] * .6 + maxFlowLayout[currentNode][1] * .4\n",
    "        t = plt.text(x, y, label, size=16, color=color, \n",
    "                     horizontalalignment='center', verticalalignment='center')\n",
    "        \n",
    "    plt.show()\n",
    "    \n",
    "\n",
    "\n",
    "def FordFulkersonAlgorithm(graph, source, sink):\n",
    "    \n",
    "    u,v = 0,0\n",
    "    fin_dict = {}\n",
    "    residualGraph = graph\n",
    "    maxFlow = 0\n",
    "    countvar = 0\n",
    "    while BreadthFirstSearch(residualGraph, source, sink, parentTracker):\n",
    "        pathFlow = INFINITE\n",
    "        v = sink\n",
    "        countvar += 1\n",
    "        while not v == source:\n",
    "            u = parentTracker[v]\n",
    "            pathFlow = min(pathFlow, residualGraph[u][v])\n",
    "            v = parentTracker[v]\n",
    "            \n",
    "        v = sink\n",
    "        s = \"\"\n",
    "        while not v == source:\n",
    "            s = \" -> \" + str(v) + s\n",
    "            u = parentTracker[v]\n",
    "            residualGraph[u][v] -= pathFlow\n",
    "            v = parentTracker[v]\n",
    "        s = \"0\" + s\n",
    "        fin_dict[s] = pathFlow\n",
    "        maxFlow += pathFlow\n",
    "        print(\"\\n\")\n",
    "        print(\"Iteration #\" + str(countvar))\n",
    "        print(\"\\n\")\n",
    "        print(\"Augmented Path:  \"+ s)\n",
    "        print(\"Bottleneck Capacity:  \" + str(pathFlow))\n",
    "        print(\"\\nAugmented Graph -->\")\n",
    "        print_graph(residualGraph)\n",
    "    print(\"\\n\\n\\n\")\n",
    "    print(\"Tabular Format of Representation \")\n",
    "    cols=['Augmented Path','Bottleneck Capacity']\n",
    "    df = pd.DataFrame(list(fin_dict.items()), columns = cols)\n",
    "    print(df)\n",
    "    return maxFlow\n",
    "    \n",
    "def main():\n",
    "    graph = \\\n",
    "        [\n",
    "            [0, 15, 11, 0, 0, 0],\n",
    "            [0, 0, 8, 0, 9, 0],\n",
    "            [0, 10, 0, 9, 0, 0],\n",
    "            [0, 15, 0, 0, 8, 11],\n",
    "            [0, 0, 0, 0, 0, 10],\n",
    "            [0, 0, 0, 0, 0, 0]\n",
    "        ]\n",
    "        \n",
    "    for i in range(0,N):\n",
    "        parentTracker.append(0)\n",
    "        \n",
    "    print(\"\\nThe Maximum Possible Flow is: {}\".format(FordFulkersonAlgorithm(graph, 0, N - 1)))"
   ]
  },
  {
   "cell_type": "code",
   "execution_count": 7,
   "id": "bacterial-banks",
   "metadata": {},
   "outputs": [
    {
     "name": "stdout",
     "output_type": "stream",
     "text": [
      "\n",
      "\n",
      "Iteration #1\n",
      "\n",
      "\n",
      "Augmented Path:  0 -> 1 -> 4 -> 5\n",
      "Bottleneck Capacity:  9\n",
      "\n",
      "Augmented Graph -->\n"
     ]
    },
    {
     "ename": "NameError",
     "evalue": "name 'plt' is not defined",
     "output_type": "error",
     "traceback": [
      "\u001b[1;31m---------------------------------------------------------------------------\u001b[0m",
      "\u001b[1;31mNameError\u001b[0m                                 Traceback (most recent call last)",
      "\u001b[1;32m<ipython-input-7-263240bbee7e>\u001b[0m in \u001b[0;36m<module>\u001b[1;34m\u001b[0m\n\u001b[1;32m----> 1\u001b[1;33m \u001b[0mmain\u001b[0m\u001b[1;33m(\u001b[0m\u001b[1;33m)\u001b[0m\u001b[1;33m\u001b[0m\u001b[1;33m\u001b[0m\u001b[0m\n\u001b[0m",
      "\u001b[1;32m<ipython-input-4-055a9592b1c7>\u001b[0m in \u001b[0;36mmain\u001b[1;34m()\u001b[0m\n\u001b[0;32m    129\u001b[0m         \u001b[0mparentTracker\u001b[0m\u001b[1;33m.\u001b[0m\u001b[0mappend\u001b[0m\u001b[1;33m(\u001b[0m\u001b[1;36m0\u001b[0m\u001b[1;33m)\u001b[0m\u001b[1;33m\u001b[0m\u001b[1;33m\u001b[0m\u001b[0m\n\u001b[0;32m    130\u001b[0m \u001b[1;33m\u001b[0m\u001b[0m\n\u001b[1;32m--> 131\u001b[1;33m     \u001b[0mprint\u001b[0m\u001b[1;33m(\u001b[0m\u001b[1;34m\"\\nThe Maximum Possible Flow is: {}\"\u001b[0m\u001b[1;33m.\u001b[0m\u001b[0mformat\u001b[0m\u001b[1;33m(\u001b[0m\u001b[0mFordFulkersonAlgorithm\u001b[0m\u001b[1;33m(\u001b[0m\u001b[0mgraph\u001b[0m\u001b[1;33m,\u001b[0m \u001b[1;36m0\u001b[0m\u001b[1;33m,\u001b[0m \u001b[0mN\u001b[0m \u001b[1;33m-\u001b[0m \u001b[1;36m1\u001b[0m\u001b[1;33m)\u001b[0m\u001b[1;33m)\u001b[0m\u001b[1;33m)\u001b[0m\u001b[1;33m\u001b[0m\u001b[1;33m\u001b[0m\u001b[0m\n\u001b[0m",
      "\u001b[1;32m<ipython-input-4-055a9592b1c7>\u001b[0m in \u001b[0;36mFordFulkersonAlgorithm\u001b[1;34m(graph, source, sink)\u001b[0m\n\u001b[0;32m    107\u001b[0m         \u001b[0mprint\u001b[0m\u001b[1;33m(\u001b[0m\u001b[1;34m\"Bottleneck Capacity:  \"\u001b[0m \u001b[1;33m+\u001b[0m \u001b[0mstr\u001b[0m\u001b[1;33m(\u001b[0m\u001b[0mpathFlow\u001b[0m\u001b[1;33m)\u001b[0m\u001b[1;33m)\u001b[0m\u001b[1;33m\u001b[0m\u001b[1;33m\u001b[0m\u001b[0m\n\u001b[0;32m    108\u001b[0m         \u001b[0mprint\u001b[0m\u001b[1;33m(\u001b[0m\u001b[1;34m\"\\nAugmented Graph -->\"\u001b[0m\u001b[1;33m)\u001b[0m\u001b[1;33m\u001b[0m\u001b[1;33m\u001b[0m\u001b[0m\n\u001b[1;32m--> 109\u001b[1;33m         \u001b[0mprint_graph\u001b[0m\u001b[1;33m(\u001b[0m\u001b[0mresidualGraph\u001b[0m\u001b[1;33m)\u001b[0m\u001b[1;33m\u001b[0m\u001b[1;33m\u001b[0m\u001b[0m\n\u001b[0m\u001b[0;32m    110\u001b[0m     \u001b[0mprint\u001b[0m\u001b[1;33m(\u001b[0m\u001b[1;34m\"\\n\\n\\n\"\u001b[0m\u001b[1;33m)\u001b[0m\u001b[1;33m\u001b[0m\u001b[1;33m\u001b[0m\u001b[0m\n\u001b[0;32m    111\u001b[0m     \u001b[0mprint\u001b[0m\u001b[1;33m(\u001b[0m\u001b[1;34m\"Tabular Format of Representation \"\u001b[0m\u001b[1;33m)\u001b[0m\u001b[1;33m\u001b[0m\u001b[1;33m\u001b[0m\u001b[0m\n",
      "\u001b[1;32m<ipython-input-4-055a9592b1c7>\u001b[0m in \u001b[0;36mprint_graph\u001b[1;34m(graph)\u001b[0m\n\u001b[0;32m     57\u001b[0m         \u001b[0mi\u001b[0m\u001b[1;33m[\u001b[0m\u001b[1;36m2\u001b[0m\u001b[1;33m]\u001b[0m\u001b[1;33m[\u001b[0m\u001b[1;34m'flow'\u001b[0m\u001b[1;33m]\u001b[0m \u001b[1;33m=\u001b[0m \u001b[0mi\u001b[0m\u001b[1;33m[\u001b[0m\u001b[1;36m2\u001b[0m\u001b[1;33m]\u001b[0m\u001b[1;33m[\u001b[0m\u001b[1;34m'capacity'\u001b[0m\u001b[1;33m]\u001b[0m \u001b[1;33m-\u001b[0m \u001b[0mgraph\u001b[0m\u001b[1;33m[\u001b[0m\u001b[0mrow\u001b[0m\u001b[1;33m]\u001b[0m\u001b[1;33m[\u001b[0m\u001b[0mcol\u001b[0m\u001b[1;33m]\u001b[0m\u001b[1;33m\u001b[0m\u001b[1;33m\u001b[0m\u001b[0m\n\u001b[0;32m     58\u001b[0m     \u001b[0mmaxFlowGraph\u001b[0m\u001b[1;33m.\u001b[0m\u001b[0madd_edges_from\u001b[0m\u001b[1;33m(\u001b[0m\u001b[0mL\u001b[0m\u001b[1;33m)\u001b[0m\u001b[1;33m\u001b[0m\u001b[1;33m\u001b[0m\u001b[0m\n\u001b[1;32m---> 59\u001b[1;33m     \u001b[0mplt\u001b[0m\u001b[1;33m.\u001b[0m\u001b[0mfigure\u001b[0m\u001b[1;33m(\u001b[0m\u001b[0mfigsize\u001b[0m\u001b[1;33m=\u001b[0m\u001b[1;33m(\u001b[0m\u001b[1;36m5\u001b[0m\u001b[1;33m,\u001b[0m \u001b[1;36m5\u001b[0m\u001b[1;33m)\u001b[0m\u001b[1;33m)\u001b[0m                           \u001b[1;31m#scale of the graph.\u001b[0m\u001b[1;33m\u001b[0m\u001b[1;33m\u001b[0m\u001b[0m\n\u001b[0m\u001b[0;32m     60\u001b[0m     \u001b[0mplt\u001b[0m\u001b[1;33m.\u001b[0m\u001b[0maxis\u001b[0m\u001b[1;33m(\u001b[0m\u001b[1;34m'off'\u001b[0m\u001b[1;33m)\u001b[0m                                      \u001b[1;31m#Turning off the axis.\u001b[0m\u001b[1;33m\u001b[0m\u001b[1;33m\u001b[0m\u001b[0m\n\u001b[0;32m     61\u001b[0m     \u001b[1;31m#Using networkx functions to plot the graph and add colour.\u001b[0m\u001b[1;33m\u001b[0m\u001b[1;33m\u001b[0m\u001b[1;33m\u001b[0m\u001b[0m\n",
      "\u001b[1;31mNameError\u001b[0m: name 'plt' is not defined"
     ]
    }
   ],
   "source": [
    "main()"
   ]
  },
  {
   "cell_type": "code",
   "execution_count": null,
   "id": "associate-orleans",
   "metadata": {},
   "outputs": [],
   "source": []
  }
 ],
 "metadata": {
  "kernelspec": {
   "display_name": "Python 3",
   "language": "python",
   "name": "python3"
  },
  "language_info": {
   "codemirror_mode": {
    "name": "ipython",
    "version": 3
   },
   "file_extension": ".py",
   "mimetype": "text/x-python",
   "name": "python",
   "nbconvert_exporter": "python",
   "pygments_lexer": "ipython3",
   "version": "3.8.5"
  }
 },
 "nbformat": 4,
 "nbformat_minor": 5
}
