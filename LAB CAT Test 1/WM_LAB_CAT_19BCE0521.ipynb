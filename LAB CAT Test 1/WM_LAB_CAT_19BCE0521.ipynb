{
 "cells": [
  {
   "cell_type": "markdown",
   "id": "substantial-science",
   "metadata": {},
   "source": [
    "# Student Details"
   ]
  },
  {
   "cell_type": "code",
   "execution_count": 1,
   "id": "apart-alarm",
   "metadata": {},
   "outputs": [],
   "source": [
    "#Student Names: Aman Anand\n",
    "#Student Reg. No.: 19BCE0521\n",
    "#Course and Slot: Web Mining - CSE3024 (L39+L40)\n",
    "#Faculty: Shashank Mouli Satapathy"
   ]
  },
  {
   "cell_type": "markdown",
   "id": "bearing-fruit",
   "metadata": {},
   "source": [
    "## Imported Libraries"
   ]
  },
  {
   "cell_type": "code",
   "execution_count": 2,
   "id": "exposed-complexity",
   "metadata": {},
   "outputs": [],
   "source": [
    "import networkx as nx\n",
    "import matplotlib.pyplot as plt\n",
    "import math\n",
    "import pandas as pd"
   ]
  },
  {
   "cell_type": "markdown",
   "id": "banner-marketing",
   "metadata": {},
   "source": [
    "## Question 1"
   ]
  },
  {
   "cell_type": "markdown",
   "id": "prospective-likelihood",
   "metadata": {},
   "source": [
    "#### Use the Ford-Fulkerson algorithm to solve the following problem in order to find the maximum flow. Consider A as source and F as Sink node. Present your results as follows:\n",
    "![Ford-Fulkerson Max Flow Graph](FFMFALABCAT.jpg)\n",
    "#### Using networkx, \n",
    "- Display the initial graphalong with weights \n",
    "- Display the updated graphwith weights after each iteration \n",
    "- Using pandas, display the augmented path and bottleneck capacity as follows:\n",
    "![Example](WMLC.jpg)\n",
    "- Print the maximum flow value"
   ]
  },
  {
   "cell_type": "code",
   "execution_count": 36,
   "id": "confidential-companion",
   "metadata": {},
   "outputs": [],
   "source": [
    "# Ford-Fulkerson algorithm in Python\n",
    "N = 6\n",
    "parentTracker = []\n",
    "INFINITE = 9999999999\n",
    "def BreadthFirstSearch(residualGraph, source, sink, parentTracker):\n",
    "    \n",
    "    queue = []\n",
    "    visited = []\n",
    "    \n",
    "    for i in range(0,N):\n",
    "        visited.append(0)\n",
    "    \n",
    "    queue.append(source)\n",
    "    visited[source] = True\n",
    "    parentTracker[source] = -1\n",
    "    \n",
    "    while not len(queue) == 0:\n",
    "        u = queue.pop(0)\n",
    "        for v in range(0,N):\n",
    "            if visited[v] == False and residualGraph[u][v] > 0:\n",
    "                queue.append(v)\n",
    "                visited[v] = True\n",
    "                parentTracker[v] = u\n",
    "                \n",
    "    if visited[sink]:\n",
    "        return True\n",
    "    else:\n",
    "        return False\n",
    "\n",
    " \n",
    "def print_graph(graph):\n",
    "    \n",
    "    maxFlowGraph = nx.DiGraph()\n",
    "    maxFlowGraph.add_nodes_from('012345')\n",
    "    L  =[\n",
    "            ('0', '1', {'capacity': 15, 'flow': 0}),\n",
    "            ('0', '2', {'capacity': 11, 'flow': 0}),\n",
    "            ('1', '2', {'capacity': 8, 'flow': 0}),\n",
    "            ('1', '3', {'capacity': 9, 'flow': 0}),\n",
    "            ('2', '1', {'capacity': 10, 'flow': 0}),\n",
    "            ('2', '4', {'capacity': 9, 'flow': 0}),\n",
    "            ('4', '1', {'capacity': 15, 'flow': 0}),\n",
    "            ('4', '3', {'capacity': 8, 'flow': 0}),\n",
    "            ('4', '5', {'capacity': 11, 'flow': 0}),\n",
    "            ('3', '5', {'capacity': 10, 'flow': 0}),\n",
    "    ]\n",
    "    \n",
    "    maxFlowLayout = {\n",
    "        '0': [0, 2], '1': [1, 4], '2': [1, 0], '3': [2, 4],\n",
    "        '4': [2, 0], '5': [3, 2], \n",
    "   }\n",
    "    \n",
    "\n",
    "    for i in L:\n",
    "        row = int(i[0])\n",
    "        col = int(i[1])\n",
    "        i[2]['flow'] = i[2]['capacity'] - graph[row][col] \n",
    "    \n",
    "    maxFlowGraph.add_edges_from(L)\n",
    "    #scale of the graph.\n",
    "    plt.figure(figsize=(10, 6))\n",
    "    #Turning off the axis.\n",
    "    plt.axis('off')                                      \n",
    "    \n",
    "    #Using networkx functions to plot the graph and add colour.\n",
    "    nx.draw_networkx_nodes(maxFlowGraph, maxFlowLayout, node_color='black', node_size=450)\n",
    "    nx.draw_networkx_edges(maxFlowGraph, maxFlowLayout, edge_color='black')\n",
    "    nx.draw_networkx_labels(maxFlowGraph, maxFlowLayout, font_color='white')\n",
    "    for nextNode, currentNode, cf in maxFlowGraph.edges(data=True):\n",
    "        label = '{}/{}'.format(cf['flow'], cf['capacity'])\n",
    "        color = 'green' if cf['flow'] < cf['capacity'] else 'red'\n",
    "        x = maxFlowLayout[nextNode][0] * .6 + maxFlowLayout[currentNode][0] * .4\n",
    "        y = maxFlowLayout[nextNode][1] * .6 + maxFlowLayout[currentNode][1] * .4\n",
    "        t = plt.text(x, y, label, size=14, color=color, horizontalalignment='center', verticalalignment='center')     \n",
    "    plt.show()\n",
    "    \n",
    "\n",
    "\n",
    "def FordFulkersonAlgorithm(graph, source, sink):\n",
    "    \n",
    "    u,v = 0,0\n",
    "    fin_dict = {}\n",
    "    residualGraph = graph\n",
    "    maxFlow = 0\n",
    "    countvar = 0\n",
    "    while BreadthFirstSearch(residualGraph, source, sink, parentTracker):\n",
    "        pathFlow = INFINITE\n",
    "        v = sink\n",
    "        countvar += 1\n",
    "        while not v == source:\n",
    "            u = parentTracker[v]\n",
    "            pathFlow = min(pathFlow, residualGraph[u][v])\n",
    "            v = parentTracker[v]\n",
    "            \n",
    "        v = sink\n",
    "        s = \"\"\n",
    "        while not v == source:\n",
    "            s = \" -> \" + str(v) + s\n",
    "            u = parentTracker[v]\n",
    "            residualGraph[u][v] -= pathFlow\n",
    "            v = parentTracker[v]\n",
    "        s = \"0\" + s\n",
    "        fin_dict[s] = pathFlow\n",
    "        maxFlow += pathFlow\n",
    "        print(\"\\n\")\n",
    "        print(\"Iteration #\" + str(countvar))\n",
    "        print(\"\\n\")\n",
    "        print(\"Augmented Path:  \"+ s)\n",
    "        print(\"Bottleneck Capacity:  \" + str(pathFlow))\n",
    "        print(\"\\nAugmented Graph -->\")\n",
    "        print_graph(residualGraph)\n",
    "    print(\"\\n\\n\\n\")\n",
    "    print(\"Tabular Format of Representation \")\n",
    "    cols=['Augmented Path','Bottleneck Capacity']\n",
    "    df = pd.DataFrame(list(fin_dict.items()), columns = cols)\n",
    "    print(df)\n",
    "    return maxFlow\n",
    "    \n",
    "def main():\n",
    "    graph = \\\n",
    "        [\n",
    "            [0, 15, 11, 0, 0, 0],\n",
    "            [0, 0, 8, 0, 9, 0],\n",
    "            [0, 10, 0, 9, 0, 0],\n",
    "            [0, 15, 0, 0, 8, 11],\n",
    "            [0, 0, 0, 0, 0, 10],\n",
    "            [0, 0, 0, 0, 0, 0]\n",
    "        ]\n",
    "        \n",
    "    for i in range(0,N):\n",
    "        parentTracker.append(0)\n",
    "        \n",
    "    print(\"\\nThe Maximum Possible Flow is: {}\".format(FordFulkersonAlgorithm(graph, 0, N - 1)))"
   ]
  },
  {
   "cell_type": "code",
   "execution_count": 37,
   "id": "bacterial-banks",
   "metadata": {},
   "outputs": [
    {
     "name": "stdout",
     "output_type": "stream",
     "text": [
      "\n",
      "\n",
      "Iteration #1\n",
      "\n",
      "\n",
      "Augmented Path:  0 -> 1 -> 4 -> 5\n",
      "Bottleneck Capacity:  9\n",
      "\n",
      "Augmented Graph -->\n"
     ]
    },
    {
     "data": {
      "image/png": "[encoded data removed]",
      "text/plain": [
       "<Figure size 720x432 with 1 Axes>"
      ]
     },
     "metadata": {},
     "output_type": "display_data"
    },
    {
     "name": "stdout",
     "output_type": "stream",
     "text": [
      "\n",
      "\n",
      "Iteration #2\n",
      "\n",
      "\n",
      "Augmented Path:  0 -> 2 -> 3 -> 5\n",
      "Bottleneck Capacity:  9\n",
      "\n",
      "Augmented Graph -->\n"
     ]
    },
    {
     "data": {
      "image/png": "[encoded data removed]",
      "text/plain": [
       "<Figure size 720x432 with 1 Axes>"
      ]
     },
     "metadata": {},
     "output_type": "display_data"
    },
    {
     "name": "stdout",
     "output_type": "stream",
     "text": [
      "\n",
      "\n",
      "\n",
      "\n",
      "Tabular Format of Representation \n",
      "     Augmented Path  Bottleneck Capacity\n",
      "0  0 -> 1 -> 4 -> 5                    9\n",
      "1  0 -> 2 -> 3 -> 5                    9\n",
      "\n",
      "The Maximum Possible Flow is: 18\n"
     ]
    }
   ],
   "source": [
    "main()"
   ]
  },
  {
   "cell_type": "code",
   "execution_count": null,
   "id": "quality-vanilla",
   "metadata": {},
   "outputs": [],
   "source": []
  }
 ],
 "metadata": {
  "kernelspec": {
   "display_name": "Python 3",
   "language": "python",
   "name": "python3"
  },
  "language_info": {
   "codemirror_mode": {
    "name": "ipython",
    "version": 3
   },
   "file_extension": ".py",
   "mimetype": "text/x-python",
   "name": "python",
   "nbconvert_exporter": "python",
   "pygments_lexer": "ipython3",
   "version": "3.8.5"
  }
 },
 "nbformat": 4,
 "nbformat_minor": 5
}
